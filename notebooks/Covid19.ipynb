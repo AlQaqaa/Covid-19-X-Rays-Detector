{
  "nbformat": 4,
  "nbformat_minor": 0,
  "metadata": {
    "kernelspec": {
      "name": "python3",
      "display_name": "Python 3"
    },
    "language_info": {
      "codemirror_mode": {
        "name": "ipython",
        "version": 3
      },
      "file_extension": ".py",
      "mimetype": "text/x-python",
      "name": "python",
      "nbconvert_exporter": "python",
      "pygments_lexer": "ipython3",
      "version": "3.6.8"
    },
    "colab": {
      "name": "Covid19.ipynb",
      "provenance": [],
      "toc_visible": true
    },
    "accelerator": "TPU"
  },
  "cells": [
    {
      "cell_type": "markdown",
      "metadata": {
        "id": "V9vKP3yPI6hA",
        "colab_type": "text"
      },
      "source": [
        "# Detecting COVID-19 in X-ray images with Keras, TensorFlow, and Deep Learning by Adrian Rosebrock "
      ]
    },
    {
      "cell_type": "markdown",
      "metadata": {
        "id": "RtG8mCVVI6hD",
        "colab_type": "text"
      },
      "source": [
        "full article: https://www.pyimagesearch.com/2020/03/16/detecting-covid-19-in-x-ray-images-with-keras-tensorflow-and-deep-learning/ \n",
        "\n",
        "\n",
        "Dataset used from:https://github.com/ieee8023/covid-chestxray-dataset"
      ]
    },
    {
      "cell_type": "markdown",
      "metadata": {
        "id": "CdE7pSEoNsdB",
        "colab_type": "text"
      },
      "source": [
        "## Import the libraries"
      ]
    },
    {
      "cell_type": "code",
      "metadata": {
        "id": "baReqp2EI6hE",
        "colab_type": "code",
        "colab": {}
      },
      "source": [
        "# import the necessary packages\n",
        "%tensorflow_version 2.x\n",
        "from tensorflow.keras.preprocessing.image import ImageDataGenerator\n",
        "from tensorflow.keras.applications import VGG16\n",
        "from tensorflow.keras.layers import AveragePooling2D\n",
        "from tensorflow.keras.layers import Dropout\n",
        "from tensorflow.keras.layers import Flatten\n",
        "from tensorflow.keras.layers import Dense\n",
        "from tensorflow.keras.layers import Input\n",
        "from tensorflow.keras.models import Model\n",
        "from tensorflow.keras.optimizers import Adam\n",
        "from tensorflow.keras.utils import to_categorical\n",
        "from sklearn.preprocessing import LabelBinarizer\n",
        "from sklearn.model_selection import train_test_split\n",
        "from sklearn.metrics import classification_report\n",
        "from sklearn.metrics import confusion_matrix\n",
        "from imutils import paths\n",
        "import matplotlib.pyplot as plt\n",
        "import numpy as np\n",
        "import argparse\n",
        "import cv2\n",
        "import os\n",
        "%matplotlib inline"
      ],
      "execution_count": 0,
      "outputs": []
    },
    {
      "cell_type": "code",
      "metadata": {
        "id": "8vtEeqR0K2Kp",
        "colab_type": "code",
        "colab": {
          "base_uri": "https://localhost:8080/",
          "height": 34
        },
        "outputId": "5102b236-1333-4230-8ce5-de634fc4fe5d"
      },
      "source": [
        "#remove this lines if you don't use colab\n",
        "from google.colab import drive\n",
        "drive.mount('/content/drive')\n",
        "dataset=\"/content/drive/My Drive/covid19_x_ray_dataset/dataset\""
      ],
      "execution_count": 5,
      "outputs": [
        {
          "output_type": "stream",
          "text": [
            "Drive already mounted at /content/drive; to attempt to forcibly remount, call drive.mount(\"/content/drive\", force_remount=True).\n"
          ],
          "name": "stdout"
        }
      ]
    },
    {
      "cell_type": "code",
      "metadata": {
        "id": "tTShjZfPI6hJ",
        "colab_type": "code",
        "colab": {}
      },
      "source": [
        "# initialize directory \n",
        "#dataset=\"dataset\"\n",
        "model_name=\"covid19.model\""
      ],
      "execution_count": 0,
      "outputs": []
    },
    {
      "cell_type": "code",
      "metadata": {
        "id": "8DnX55_YI6hM",
        "colab_type": "code",
        "colab": {}
      },
      "source": [
        "# initialize the initial learning rate, number of epochs to train for,\n",
        "# and batch size\n",
        "INIT_LR = 1e-3\n",
        "EPOCHS = 25\n",
        "BS = 8"
      ],
      "execution_count": 0,
      "outputs": []
    },
    {
      "cell_type": "code",
      "metadata": {
        "id": "e90p_IXGI6hQ",
        "colab_type": "code",
        "colab": {}
      },
      "source": [
        "imagePaths = list(paths.list_images(dataset))\n",
        "data = []\n",
        "labels = []"
      ],
      "execution_count": 0,
      "outputs": []
    },
    {
      "cell_type": "code",
      "metadata": {
        "id": "WCKQ4SHNI6hU",
        "colab_type": "code",
        "colab": {}
      },
      "source": [
        "# loop over the image paths\n",
        "for imagePath in imagePaths:\n",
        "    # extract the class label from the filename\n",
        "    label = imagePath.split(os.path.sep)[-2]\n",
        "\n",
        "    # load the image, swap color channels, and resize it to be a fixed\n",
        "    # 224x224 pixels while ignoring aspect ratio\n",
        "    image = cv2.imread(imagePath)\n",
        "    image = cv2.cvtColor(image, cv2.COLOR_BGR2RGB)\n",
        "    image = cv2.resize(image, (224, 224))\n",
        "\n",
        "    # update the data and labels lists, respectively\n",
        "    data.append(image)\n",
        "    labels.append(label)\n",
        "\n",
        "# convert the data and labels to NumPy arrays while scaling the pixel\n",
        "# intensities to the range [0, 255]\n",
        "data = np.array(data) / 255.0\n",
        "labels = np.array(labels)\n"
      ],
      "execution_count": 0,
      "outputs": []
    },
    {
      "cell_type": "code",
      "metadata": {
        "id": "Wt4WFH_7I6hY",
        "colab_type": "code",
        "colab": {}
      },
      "source": [
        "# perform one-hot encoding on the labels\n",
        "lb = LabelBinarizer()\n",
        "labels = lb.fit_transform(labels)\n",
        "labels = to_categorical(labels)\n",
        "\n",
        "# partition the data into training and testing splits using 80% of\n",
        "# the data for training and the remaining 20% for testing\n",
        "(trainX, testX, trainY, testY) = train_test_split(data, labels,\n",
        "\ttest_size=0.20, stratify=labels, random_state=42)\n",
        "\n",
        "# initialize the training data augmentation object\n",
        "trainAug = ImageDataGenerator(\n",
        "    rotation_range=15,\n",
        "    fill_mode=\"nearest\")"
      ],
      "execution_count": 0,
      "outputs": []
    },
    {
      "cell_type": "markdown",
      "metadata": {
        "id": "nANhHCdRI6hb",
        "colab_type": "text"
      },
      "source": [
        "## Build the model"
      ]
    },
    {
      "cell_type": "code",
      "metadata": {
        "id": "QuN-STpMI6hc",
        "colab_type": "code",
        "colab": {
          "base_uri": "https://localhost:8080/",
          "height": 51
        },
        "outputId": "6fa232f0-5a07-4bee-e7f3-e66f7a7fb54b"
      },
      "source": [
        "# load the VGG16 network, ensuring the head FC layer sets are left\n",
        "# off\n",
        "baseModel = VGG16(weights=\"imagenet\", include_top=False,\n",
        "\tinput_tensor=Input(shape=(224, 224, 3)))\n",
        "\n",
        "# construct the head of the model that will be placed on top of the\n",
        "# the base model\n",
        "headModel = baseModel.output\n",
        "headModel = AveragePooling2D(pool_size=(4, 4))(headModel)\n",
        "headModel = Flatten(name=\"flatten\")(headModel)\n",
        "headModel = Dense(64, activation=\"relu\")(headModel)\n",
        "headModel = Dropout(0.5)(headModel)\n",
        "headModel = Dense(2, activation=\"softmax\")(headModel)\n",
        "\n",
        "# place the head FC model on top of the base model (this will become\n",
        "# the actual model we will train)\n",
        "model = Model(inputs=baseModel.input, outputs=headModel)"
      ],
      "execution_count": 11,
      "outputs": [
        {
          "output_type": "stream",
          "text": [
            "Downloading data from https://github.com/fchollet/deep-learning-models/releases/download/v0.1/vgg16_weights_tf_dim_ordering_tf_kernels_notop.h5\n",
            "58892288/58889256 [==============================] - 1s 0us/step\n"
          ],
          "name": "stdout"
        }
      ]
    },
    {
      "cell_type": "code",
      "metadata": {
        "id": "myXTccLLI6hh",
        "colab_type": "code",
        "colab": {
          "base_uri": "https://localhost:8080/",
          "height": 34
        },
        "outputId": "6c2899c0-0262-478d-cb3d-5db03da67893"
      },
      "source": [
        "# loop over all layers in the base model and freeze them so they will\n",
        "# *not* be updated during the first training process\n",
        "for layer in baseModel.layers:\n",
        "\tlayer.trainable = False\n",
        "\n",
        "# compile our model\n",
        "print(\"[INFO] compiling model...\")\n",
        "opt = Adam(lr=INIT_LR, decay=INIT_LR / EPOCHS)\n",
        "model.compile(loss=\"binary_crossentropy\", optimizer=opt,\n",
        "\tmetrics=[\"accuracy\"])"
      ],
      "execution_count": 12,
      "outputs": [
        {
          "output_type": "stream",
          "text": [
            "[INFO] compiling model...\n"
          ],
          "name": "stdout"
        }
      ]
    },
    {
      "cell_type": "markdown",
      "metadata": {
        "id": "kJTtXCcbI6hl",
        "colab_type": "text"
      },
      "source": [
        "## Training the model"
      ]
    },
    {
      "cell_type": "code",
      "metadata": {
        "id": "ELb1oo_RI6hm",
        "colab_type": "code",
        "colab": {
          "base_uri": "https://localhost:8080/",
          "height": 1000
        },
        "outputId": "8d01ec3d-981c-4bd5-b502-8b5db5f8367b"
      },
      "source": [
        "# train the head of the network\n",
        "print(\"[INFO] training head...\")\n",
        "H = model.fit_generator(\n",
        "    trainAug.flow(trainX, trainY, batch_size=BS),\n",
        "    steps_per_epoch=len(trainX) // BS,\n",
        "    validation_data=(testX, testY),\n",
        "    validation_steps=len(testX) // BS,\n",
        "    epochs=EPOCHS)"
      ],
      "execution_count": 13,
      "outputs": [
        {
          "output_type": "stream",
          "text": [
            "[INFO] training head...\n",
            "WARNING:tensorflow:From <ipython-input-13-2fbb03ff233f>:7: Model.fit_generator (from tensorflow.python.keras.engine.training) is deprecated and will be removed in a future version.\n",
            "Instructions for updating:\n",
            "Please use Model.fit, which supports generators.\n",
            "WARNING:tensorflow:sample_weight modes were coerced from\n",
            "  ...\n",
            "    to  \n",
            "  ['...']\n",
            "Train for 5 steps, validate on 10 samples\n",
            "Epoch 1/25\n",
            "5/5 [==============================] - 25s 5s/step - loss: 0.9642 - accuracy: 0.4500 - val_loss: 0.4902 - val_accuracy: 0.8750\n",
            "Epoch 2/25\n",
            "5/5 [==============================] - 24s 5s/step - loss: 0.6602 - accuracy: 0.6750 - val_loss: 0.4827 - val_accuracy: 1.0000\n",
            "Epoch 3/25\n",
            "5/5 [==============================] - 24s 5s/step - loss: 0.7578 - accuracy: 0.4500 - val_loss: 0.4866 - val_accuracy: 0.7500\n",
            "Epoch 4/25\n",
            "5/5 [==============================] - 24s 5s/step - loss: 0.6551 - accuracy: 0.6000 - val_loss: 0.4773 - val_accuracy: 0.8750\n",
            "Epoch 5/25\n",
            "5/5 [==============================] - 24s 5s/step - loss: 0.6468 - accuracy: 0.6250 - val_loss: 0.4742 - val_accuracy: 0.7500\n",
            "Epoch 6/25\n",
            "5/5 [==============================] - 24s 5s/step - loss: 0.5732 - accuracy: 0.7250 - val_loss: 0.4677 - val_accuracy: 0.8750\n",
            "Epoch 7/25\n",
            "5/5 [==============================] - 24s 5s/step - loss: 0.5180 - accuracy: 0.8250 - val_loss: 0.4638 - val_accuracy: 0.7500\n",
            "Epoch 8/25\n",
            "5/5 [==============================] - 24s 5s/step - loss: 0.4959 - accuracy: 0.7500 - val_loss: 0.4597 - val_accuracy: 1.0000\n",
            "Epoch 9/25\n",
            "5/5 [==============================] - 24s 5s/step - loss: 0.6248 - accuracy: 0.6250 - val_loss: 0.4485 - val_accuracy: 0.7500\n",
            "Epoch 10/25\n",
            "5/5 [==============================] - 24s 5s/step - loss: 0.6010 - accuracy: 0.6250 - val_loss: 0.4402 - val_accuracy: 0.7500\n",
            "Epoch 11/25\n",
            "5/5 [==============================] - 24s 5s/step - loss: 0.5271 - accuracy: 0.7500 - val_loss: 0.4286 - val_accuracy: 1.0000\n",
            "Epoch 12/25\n",
            "5/5 [==============================] - 24s 5s/step - loss: 0.4806 - accuracy: 0.7500 - val_loss: 0.4185 - val_accuracy: 1.0000\n",
            "Epoch 13/25\n",
            "5/5 [==============================] - 24s 5s/step - loss: 0.4319 - accuracy: 0.9000 - val_loss: 0.4097 - val_accuracy: 1.0000\n",
            "Epoch 14/25\n",
            "5/5 [==============================] - 24s 5s/step - loss: 0.3887 - accuracy: 0.9500 - val_loss: 0.4022 - val_accuracy: 0.7500\n",
            "Epoch 15/25\n",
            "5/5 [==============================] - 24s 5s/step - loss: 0.3986 - accuracy: 0.9000 - val_loss: 0.3931 - val_accuracy: 0.7500\n",
            "Epoch 16/25\n",
            "5/5 [==============================] - 24s 5s/step - loss: 0.4788 - accuracy: 0.8000 - val_loss: 0.3819 - val_accuracy: 0.7500\n",
            "Epoch 17/25\n",
            "5/5 [==============================] - 24s 5s/step - loss: 0.4091 - accuracy: 0.8500 - val_loss: 0.3753 - val_accuracy: 0.7500\n",
            "Epoch 18/25\n",
            "5/5 [==============================] - 24s 5s/step - loss: 0.4446 - accuracy: 0.8000 - val_loss: 0.3583 - val_accuracy: 0.8750\n",
            "Epoch 19/25\n",
            "5/5 [==============================] - 24s 5s/step - loss: 0.3998 - accuracy: 0.8500 - val_loss: 0.3487 - val_accuracy: 0.8750\n",
            "Epoch 20/25\n",
            "5/5 [==============================] - 24s 5s/step - loss: 0.4513 - accuracy: 0.8250 - val_loss: 0.3376 - val_accuracy: 0.8750\n",
            "Epoch 21/25\n",
            "5/5 [==============================] - 24s 5s/step - loss: 0.3742 - accuracy: 0.9500 - val_loss: 0.3384 - val_accuracy: 0.8750\n",
            "Epoch 22/25\n",
            "5/5 [==============================] - 24s 5s/step - loss: 0.4230 - accuracy: 0.8500 - val_loss: 0.3366 - val_accuracy: 0.8750\n",
            "Epoch 23/25\n",
            "5/5 [==============================] - 24s 5s/step - loss: 0.4051 - accuracy: 0.9000 - val_loss: 0.3233 - val_accuracy: 0.8750\n",
            "Epoch 24/25\n",
            "5/5 [==============================] - 24s 5s/step - loss: 0.4054 - accuracy: 0.8750 - val_loss: 0.3135 - val_accuracy: 0.8750\n",
            "Epoch 25/25\n",
            "5/5 [==============================] - 24s 5s/step - loss: 0.3886 - accuracy: 0.9000 - val_loss: 0.3039 - val_accuracy: 0.8750\n"
          ],
          "name": "stdout"
        }
      ]
    },
    {
      "cell_type": "markdown",
      "metadata": {
        "id": "a89prd26I6hp",
        "colab_type": "text"
      },
      "source": [
        "## Test the model"
      ]
    },
    {
      "cell_type": "code",
      "metadata": {
        "id": "iD-K3gvyI6hq",
        "colab_type": "code",
        "colab": {
          "base_uri": "https://localhost:8080/",
          "height": 187
        },
        "outputId": "13df36e3-b531-4499-c30e-d947f837d79e"
      },
      "source": [
        "# make predictions on the testing set\n",
        "print(\"[INFO] evaluating network...\")\n",
        "predIdxs = model.predict(testX, batch_size=BS)\n",
        "\n",
        "# for each image in the testing set we need to find the index of the\n",
        "# label with corresponding largest predicted probability\n",
        "predIdxs = np.argmax(predIdxs, axis=1)\n",
        "\n",
        "# show a nicely formatted classification report\n",
        "print(classification_report(testY.argmax(axis=1), predIdxs,\n",
        "\ttarget_names=lb.classes_))"
      ],
      "execution_count": 14,
      "outputs": [
        {
          "output_type": "stream",
          "text": [
            "[INFO] evaluating network...\n",
            "              precision    recall  f1-score   support\n",
            "\n",
            "       covid       0.83      1.00      0.91         5\n",
            "      normal       1.00      0.80      0.89         5\n",
            "\n",
            "    accuracy                           0.90        10\n",
            "   macro avg       0.92      0.90      0.90        10\n",
            "weighted avg       0.92      0.90      0.90        10\n",
            "\n"
          ],
          "name": "stdout"
        }
      ]
    },
    {
      "cell_type": "code",
      "metadata": {
        "id": "6tbI_7sbI6ht",
        "colab_type": "code",
        "colab": {
          "base_uri": "https://localhost:8080/",
          "height": 102
        },
        "outputId": "a8354ec4-4491-488f-e194-32f31de0e6b7"
      },
      "source": [
        "# compute the confusion matrix and and use it to derive the raw\n",
        "# accuracy, sensitivity, and specificity\n",
        "cm = confusion_matrix(testY.argmax(axis=1), predIdxs)\n",
        "total = sum(sum(cm))\n",
        "acc = (cm[0, 0] + cm[1, 1]) / total\n",
        "sensitivity = cm[0, 0] / (cm[0, 0] + cm[0, 1])\n",
        "specificity = cm[1, 1] / (cm[1, 0] + cm[1, 1])\n",
        "\n",
        "# show the confusion matrix, accuracy, sensitivity, and specificity\n",
        "print(cm)\n",
        "print(\"acc: {:.4f}\".format(acc))\n",
        "print(\"sensitivity: {:.4f}\".format(sensitivity))\n",
        "print(\"specificity: {:.4f}\".format(specificity))"
      ],
      "execution_count": 15,
      "outputs": [
        {
          "output_type": "stream",
          "text": [
            "[[5 0]\n",
            " [1 4]]\n",
            "acc: 0.9000\n",
            "sensitivity: 1.0000\n",
            "specificity: 0.8000\n"
          ],
          "name": "stdout"
        }
      ]
    },
    {
      "cell_type": "code",
      "metadata": {
        "id": "T91sc17BI6hw",
        "colab_type": "code",
        "colab": {
          "base_uri": "https://localhost:8080/",
          "height": 316
        },
        "outputId": "cf17f14f-4e55-40d6-d80a-b53529367577"
      },
      "source": [
        "# plot the training loss and accuracy\n",
        "N = EPOCHS\n",
        "plt.style.use(\"ggplot\")\n",
        "plt.figure()\n",
        "plt.plot(np.arange(0, N), H.history[\"loss\"], label=\"train_loss\")\n",
        "plt.plot(np.arange(0, N), H.history[\"val_loss\"], label=\"val_loss\")\n",
        "plt.plot(np.arange(0, N), H.history[\"accuracy\"], label=\"train_acc\")\n",
        "plt.plot(np.arange(0, N), H.history[\"val_accuracy\"], label=\"val_acc\")\n",
        "plt.title(\"Training Loss and Accuracy on COVID-19 Dataset\")\n",
        "plt.xlabel(\"Epoch #\")\n",
        "plt.ylabel(\"Loss/Accuracy\")\n",
        "plt.legend(loc=\"lower left\")\n",
        "plt.show()\n",
        "plt.savefig(\"plot.png\")"
      ],
      "execution_count": 16,
      "outputs": [
        {
          "output_type": "display_data",
          "data": {
            "image/png": "[encoded data removed]",
            "text/plain": [
              "<Figure size 432x288 with 1 Axes>"
            ]
          },
          "metadata": {
            "tags": []
          }
        },
        {
          "output_type": "display_data",
          "data": {
            "text/plain": [
              "<Figure size 432x288 with 0 Axes>"
            ]
          },
          "metadata": {
            "tags": []
          }
        }
      ]
    },
    {
      "cell_type": "code",
      "metadata": {
        "id": "zRDUD9rqI6h0",
        "colab_type": "code",
        "colab": {
          "base_uri": "https://localhost:8080/",
          "height": 34
        },
        "outputId": "9f12f644-0dfa-49ba-c445-609853d9db8e"
      },
      "source": [
        "# serialize the model to disk\n",
        "print(\"[INFO] saving COVID-19 detector model...\")\n",
        "model.save(model_name, save_format=\"h5\")"
      ],
      "execution_count": 18,
      "outputs": [
        {
          "output_type": "stream",
          "text": [
            "[INFO] saving COVID-19 detector model...\n"
          ],
          "name": "stdout"
        }
      ]
    },
    {
      "cell_type": "code",
      "metadata": {
        "id": "CYmHK4udOzJ3",
        "colab_type": "code",
        "colab": {}
      },
      "source": [
        ""
      ],
      "execution_count": 0,
      "outputs": []
    }
  ]
}